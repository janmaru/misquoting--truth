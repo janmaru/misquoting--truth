{
  "nbformat": 4,
  "nbformat_minor": 0,
  "metadata": {
    "colab": {
      "provenance": []
    },
    "kernelspec": {
      "name": "python3",
      "display_name": "Python 3"
    },
    "language_info": {
      "name": "python"
    }
  },
  "cells": [
    {
      "cell_type": "code",
      "execution_count": 9,
      "metadata": {
        "colab": {
          "base_uri": "https://localhost:8080/"
        },
        "id": "ophDBK6jY567",
        "outputId": "7cce2ecf-c29e-4bea-b73a-09189153d719"
      },
      "outputs": [
        {
          "output_type": "stream",
          "name": "stdout",
          "text": [
            "Epoch 1/10\n",
            "\u001b[1m250/250\u001b[0m \u001b[32m━━━━━━━━━━━━━━━━━━━━\u001b[0m\u001b[37m\u001b[0m \u001b[1m2s\u001b[0m 4ms/step - accuracy: 0.7759 - loss: 6.1727 - val_accuracy: 0.8890 - val_loss: 7.3269\n",
            "Epoch 2/10\n",
            "\u001b[1m250/250\u001b[0m \u001b[32m━━━━━━━━━━━━━━━━━━━━\u001b[0m\u001b[37m\u001b[0m \u001b[1m1s\u001b[0m 2ms/step - accuracy: 0.7922 - loss: 2.2039 - val_accuracy: 0.8890 - val_loss: 3.2211\n",
            "Epoch 3/10\n",
            "\u001b[1m250/250\u001b[0m \u001b[32m━━━━━━━━━━━━━━━━━━━━\u001b[0m\u001b[37m\u001b[0m \u001b[1m1s\u001b[0m 2ms/step - accuracy: 0.7812 - loss: 2.4262 - val_accuracy: 0.8890 - val_loss: 5.7823\n",
            "Epoch 4/10\n",
            "\u001b[1m250/250\u001b[0m \u001b[32m━━━━━━━━━━━━━━━━━━━━\u001b[0m\u001b[37m\u001b[0m \u001b[1m1s\u001b[0m 2ms/step - accuracy: 0.7961 - loss: 2.0635 - val_accuracy: 0.8890 - val_loss: 0.9346\n",
            "Epoch 5/10\n",
            "\u001b[1m250/250\u001b[0m \u001b[32m━━━━━━━━━━━━━━━━━━━━\u001b[0m\u001b[37m\u001b[0m \u001b[1m1s\u001b[0m 2ms/step - accuracy: 0.7728 - loss: 3.1288 - val_accuracy: 0.8890 - val_loss: 8.7307\n",
            "Epoch 6/10\n",
            "\u001b[1m250/250\u001b[0m \u001b[32m━━━━━━━━━━━━━━━━━━━━\u001b[0m\u001b[37m\u001b[0m \u001b[1m1s\u001b[0m 2ms/step - accuracy: 0.8097 - loss: 1.8296 - val_accuracy: 0.8890 - val_loss: 8.0511\n",
            "Epoch 7/10\n",
            "\u001b[1m250/250\u001b[0m \u001b[32m━━━━━━━━━━━━━━━━━━━━\u001b[0m\u001b[37m\u001b[0m \u001b[1m1s\u001b[0m 2ms/step - accuracy: 0.8079 - loss: 1.6422 - val_accuracy: 0.8890 - val_loss: 2.6929\n",
            "Epoch 8/10\n",
            "\u001b[1m250/250\u001b[0m \u001b[32m━━━━━━━━━━━━━━━━━━━━\u001b[0m\u001b[37m\u001b[0m \u001b[1m1s\u001b[0m 2ms/step - accuracy: 0.8034 - loss: 1.3480 - val_accuracy: 0.8890 - val_loss: 1.0705\n",
            "Epoch 9/10\n",
            "\u001b[1m250/250\u001b[0m \u001b[32m━━━━━━━━━━━━━━━━━━━━\u001b[0m\u001b[37m\u001b[0m \u001b[1m1s\u001b[0m 3ms/step - accuracy: 0.8029 - loss: 1.3587 - val_accuracy: 0.8890 - val_loss: 2.8908\n",
            "Epoch 10/10\n",
            "\u001b[1m250/250\u001b[0m \u001b[32m━━━━━━━━━━━━━━━━━━━━\u001b[0m\u001b[37m\u001b[0m \u001b[1m1s\u001b[0m 3ms/step - accuracy: 0.7873 - loss: 1.5657 - val_accuracy: 0.8890 - val_loss: 0.5355\n"
          ]
        },
        {
          "output_type": "execute_result",
          "data": {
            "text/plain": [
              "<keras.src.callbacks.history.History at 0x797f95493c40>"
            ]
          },
          "metadata": {},
          "execution_count": 9
        }
      ],
      "source": [
        "import numpy as np\n",
        "import tensorflow as tf\n",
        "from tensorflow.keras import layers, models\n",
        "\n",
        "# A number is prime?\n",
        "def is_prime(n):\n",
        "    # Check for numbers less than or equal to 1\n",
        "    if n <= 1:\n",
        "        return False  # Return False for non-prime numbers\n",
        "\n",
        "    # Check for 2 and 3\n",
        "    if n <= 3:\n",
        "        return True  # 2 and 3 are prime numbers\n",
        "\n",
        "    # Eliminate even numbers and multiples of 3\n",
        "    if n % 2 == 0 or n % 3 == 0:\n",
        "        return False  # Return False for even numbers and multiples of 3\n",
        "\n",
        "    # Check for factors from 5 to the square root of n\n",
        "    i = 5\n",
        "    while i * i <= n:\n",
        "        if n % i == 0 or n % (i + 2) == 0:\n",
        "            return False  # Return False if a factor is found\n",
        "        i += 6  # Increment by 6 to check only potential prime factors\n",
        "\n",
        "    return True  # Return True if no factors were found\n",
        "\n",
        "# Generate dataset\n",
        "def generate_data(limit):\n",
        "    X = np.arange(2, limit)\n",
        "    y = np.array([is_prime(x) for x in X])\n",
        "    return X, y\n",
        "\n",
        "# Prepare the data\n",
        "limit = 10000  # You can increase this for a larger dataset\n",
        "X, y = generate_data(limit)\n",
        "\n",
        "# Reshape data for the neural network\n",
        "X = X.reshape(-1, 1)\n",
        "y = y.reshape(-1, 1)\n",
        "\n",
        "# Define the model\n",
        "model = models.Sequential([\n",
        "    layers.Dense(32, input_shape=(1,), activation='relu'),\n",
        "    layers.Dense(64, activation='relu'),\n",
        "    layers.Dense(1, activation='sigmoid')  # Output layer\n",
        "])\n",
        "\n",
        "# Compile the model\n",
        "model.compile(optimizer='adam',\n",
        "              loss='binary_crossentropy',\n",
        "              metrics=['accuracy'])\n",
        "\n",
        "# Train the model\n",
        "model.fit(X, y, epochs=10, batch_size=32, validation_split=0.2)\n",
        "\n"
      ]
    },
    {
      "cell_type": "code",
      "source": [
        "\n",
        "# Evaluate the model\n",
        "loss, accuracy = model.evaluate(X, y)\n",
        "print(f'Accuracy: {accuracy * 100:.2f}%')\n",
        "\n",
        "# Make predictions\n",
        "number_to_predict = np.array([[13]])\n",
        "prediction = model.predict(number_to_predict)\n",
        "print(prediction)\n",
        "print(f'Prediction for {number_to_predict[0][0]}: {\"Prime\" if prediction > 0.5 else \"Not Prime\"}')"
      ],
      "metadata": {
        "colab": {
          "base_uri": "https://localhost:8080/"
        },
        "id": "GRXt2jY-biyr",
        "outputId": "70819900-7abc-495e-b343-2662159a9a84"
      },
      "execution_count": 13,
      "outputs": [
        {
          "output_type": "stream",
          "name": "stdout",
          "text": [
            "\u001b[1m313/313\u001b[0m \u001b[32m━━━━━━━━━━━━━━━━━━━━\u001b[0m\u001b[37m\u001b[0m \u001b[1m0s\u001b[0m 1ms/step - accuracy: 0.8581 - loss: 0.4561\n",
            "Accuracy: 87.71%\n",
            "\u001b[1m1/1\u001b[0m \u001b[32m━━━━━━━━━━━━━━━━━━━━\u001b[0m\u001b[37m\u001b[0m \u001b[1m0s\u001b[0m 19ms/step\n",
            "[[0.41511023]]\n",
            "Prediction for 16: Prime\n"
          ]
        }
      ]
    },
    {
      "cell_type": "code",
      "source": [
        "import numpy as np\n",
        "\n",
        "\n",
        "# Generate even numbers greater than 2\n",
        "even_numbers = np.arange(4, 100, 2)  # Generate even numbers from 4 to 98\n",
        "\n",
        "# Reshape for the model input\n",
        "even_numbers = even_numbers.reshape(-1, 1)\n",
        "\n",
        "# Predict using the trained model\n",
        "predictions = model.predict(even_numbers)\n",
        "\n",
        "# Print the results\n",
        "for number, prediction in zip(even_numbers, predictions):\n",
        "    print(f'Number: {number[0]}, Prediction: {\"Prime\" if prediction > 0.5 else \"Not Prime\"}')\n",
        "\n",
        "# Check if the model correctly classifies all even numbers as non-prime\n",
        "all_non_prime = all(prediction <= 0.5 for prediction in predictions)\n",
        "print(f\"Model correctly identified all even numbers as non-prime: {all_non_prime}\")\n"
      ],
      "metadata": {
        "colab": {
          "base_uri": "https://localhost:8080/"
        },
        "id": "2Pid0nRaZdJQ",
        "outputId": "fcd1d078-b7b1-4ea5-bee0-b7818f64ca91"
      },
      "execution_count": 2,
      "outputs": [
        {
          "output_type": "stream",
          "name": "stdout",
          "text": [
            "\u001b[1m2/2\u001b[0m \u001b[32m━━━━━━━━━━━━━━━━━━━━\u001b[0m\u001b[37m\u001b[0m \u001b[1m0s\u001b[0m 7ms/step \n",
            "Number: 4, Prediction: Not Prime\n",
            "Number: 6, Prediction: Not Prime\n",
            "Number: 8, Prediction: Not Prime\n",
            "Number: 10, Prediction: Not Prime\n",
            "Number: 12, Prediction: Not Prime\n",
            "Number: 14, Prediction: Not Prime\n",
            "Number: 16, Prediction: Not Prime\n",
            "Number: 18, Prediction: Not Prime\n",
            "Number: 20, Prediction: Not Prime\n",
            "Number: 22, Prediction: Not Prime\n",
            "Number: 24, Prediction: Not Prime\n",
            "Number: 26, Prediction: Not Prime\n",
            "Number: 28, Prediction: Not Prime\n",
            "Number: 30, Prediction: Not Prime\n",
            "Number: 32, Prediction: Not Prime\n",
            "Number: 34, Prediction: Not Prime\n",
            "Number: 36, Prediction: Not Prime\n",
            "Number: 38, Prediction: Not Prime\n",
            "Number: 40, Prediction: Not Prime\n",
            "Number: 42, Prediction: Not Prime\n",
            "Number: 44, Prediction: Not Prime\n",
            "Number: 46, Prediction: Not Prime\n",
            "Number: 48, Prediction: Not Prime\n",
            "Number: 50, Prediction: Not Prime\n",
            "Number: 52, Prediction: Not Prime\n",
            "Number: 54, Prediction: Not Prime\n",
            "Number: 56, Prediction: Not Prime\n",
            "Number: 58, Prediction: Not Prime\n",
            "Number: 60, Prediction: Not Prime\n",
            "Number: 62, Prediction: Not Prime\n",
            "Number: 64, Prediction: Not Prime\n",
            "Number: 66, Prediction: Not Prime\n",
            "Number: 68, Prediction: Not Prime\n",
            "Number: 70, Prediction: Not Prime\n",
            "Number: 72, Prediction: Not Prime\n",
            "Number: 74, Prediction: Not Prime\n",
            "Number: 76, Prediction: Not Prime\n",
            "Number: 78, Prediction: Not Prime\n",
            "Number: 80, Prediction: Not Prime\n",
            "Number: 82, Prediction: Not Prime\n",
            "Number: 84, Prediction: Not Prime\n",
            "Number: 86, Prediction: Not Prime\n",
            "Number: 88, Prediction: Not Prime\n",
            "Number: 90, Prediction: Not Prime\n",
            "Number: 92, Prediction: Not Prime\n",
            "Number: 94, Prediction: Not Prime\n",
            "Number: 96, Prediction: Not Prime\n",
            "Number: 98, Prediction: Not Prime\n",
            "Model correctly identified all even numbers as non-prime: True\n"
          ]
        }
      ]
    }
  ]
}