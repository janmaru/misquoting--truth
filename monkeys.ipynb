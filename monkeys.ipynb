{
  "nbformat": 4,
  "nbformat_minor": 0,
  "metadata": {
    "colab": {
      "provenance": []
    },
    "kernelspec": {
      "name": "python3",
      "display_name": "Python 3"
    },
    "language_info": {
      "name": "python"
    }
  },
  "cells": [
    {
      "cell_type": "code",
      "execution_count": 2,
      "metadata": {
        "id": "0qXa3-zf4vvS"
      },
      "outputs": [],
      "source": [
        "import tensorflow as tf\n",
        "import numpy as np\n",
        "\n",
        "# Feature 1 (X₁), Feature 2 (X₂), Target (y)\n",
        "X_original = np.array([[1.0, 2.0],\n",
        "                       [2.0, 3.0],\n",
        "                       [3.0, 4.0]])\n",
        "\n",
        "y = np.array([[5.0],\n",
        "              [8.0],\n",
        "              [11.0]])\n",
        "\n",
        "# Swap the features\n",
        "X_swapped = np.array([[2.0, 1.0],\n",
        "                      [3.0, 2.0],\n",
        "                      [4.0, 3.0]])\n",
        "\n",
        "def train_linear_regression(X, y, learning_rate=0.01, epochs=500):\n",
        "    # Linear regression model\n",
        "    model = tf.keras.Sequential([\n",
        "        tf.keras.layers.Input(shape=(2,)),\n",
        "        tf.keras.layers.Dense(1, kernel_initializer='random_normal')\n",
        "    ])\n",
        "\n",
        "    # Compile the model\n",
        "    model.compile(optimizer=tf.optimizers.SGD(learning_rate=learning_rate), loss='mse')\n",
        "\n",
        "    # Train the model\n",
        "    model.fit(X, y, epochs=epochs, verbose=0)\n",
        "\n",
        "    # Return the weights and bias\n",
        "    return model.get_weights()\n",
        "\n",
        "# Train the model on the original feature order\n",
        "weights_original, bias_original = train_linear_regression(X_original, y)\n",
        "\n",
        "# Train the model on the swapped feature order\n",
        "weights_swapped, bias_swapped = train_linear_regression(X_swapped, y)\n",
        "\n"
      ]
    },
    {
      "cell_type": "code",
      "source": [
        "# Print the results\n",
        "print(\"Original Feature Order:\")\n",
        "print(f\"Weights: {weights_original.ravel()}\")\n",
        "print(f\"Bias: {bias_original[0]}\\n\")\n",
        "\n",
        "print(\"Swapped Feature Order:\")\n",
        "print(f\"Weights: {weights_swapped.ravel()}\")\n",
        "print(f\"Bias: {bias_swapped[0]}\\n\")\n",
        "\n",
        "# Predictions for original order\n",
        "predictions_original = np.dot(X_original, weights_original) + bias_original\n",
        "\n",
        "# Predictions for swapped order\n",
        "predictions_swapped = np.dot(X_swapped, weights_swapped) + bias_swapped\n",
        "\n",
        "print(\"Predictions with Original Feature Order:\")\n",
        "print(predictions_original.ravel())\n",
        "\n",
        "print(\"Predictions with Swapped Feature Order:\")\n",
        "print(predictions_swapped.ravel())\n"
      ],
      "metadata": {
        "colab": {
          "base_uri": "https://localhost:8080/"
        },
        "id": "EVCurMkR5akz",
        "outputId": "4f380810-07eb-4702-d015-af65e1ebb898"
      },
      "execution_count": 3,
      "outputs": [
        {
          "output_type": "stream",
          "name": "stdout",
          "text": [
            "Original Feature Order:\n",
            "Weights: [1.266639  1.7027745]\n",
            "Bias: 0.3657500445842743\n",
            "\n",
            "Swapped Feature Order:\n",
            "Weights: [1.6815352 1.2873826]\n",
            "Bias: 0.38809990882873535\n",
            "\n",
            "Predictions with Original Feature Order:\n",
            "[ 5.03793809  8.00735161 10.97676513]\n",
            "Predictions with Swapped Feature Order:\n",
            "[ 5.038553    8.00747085 10.97638869]\n"
          ]
        }
      ]
    }
  ]
}